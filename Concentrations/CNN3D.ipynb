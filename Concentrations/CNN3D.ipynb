{
 "cells": [
  {
   "cell_type": "code",
   "execution_count": 2,
   "metadata": {},
   "outputs": [],
   "source": [
    "import pandas as pd\n",
    "from xml.etree import ElementTree\n",
    "from PIL import Image\n",
    "import numpy as np\n",
    "import os\n",
    "import matplotlib.pyplot as plt\n",
    "from keras.preprocessing.image import load_img\n",
    "from keras.preprocessing.image import img_to_array\n",
    "from keras.preprocessing.image import array_to_img\n",
    "from sklearn.model_selection import train_test_split\n",
    "from keras.utils import to_categorical\n",
    "from keras import layers\n",
    "from keras import models\n",
    "from collections import Counter\n",
    "from math import ceil, floor\n",
    "from keras.callbacks import ModelCheckpoint, EarlyStopping, TensorBoard, CSVLogger\n",
    "from keras.layers import Dropout, Conv3D, BatchNormalization, MaxPooling2D , Activation, MaxPooling3D\n",
    "import os\n",
    "import matplotlib.pyplot as plt\n",
    "from keras.layers import TimeDistributed, LSTM, Dense, ConvLSTM2D, Bidirectional\n",
    "import pickle"
   ]
  },
  {
   "cell_type": "code",
   "execution_count": 3,
   "metadata": {},
   "outputs": [],
   "source": [
    "vid_names = ['movie1gel1', 'movie1gel2', 'movie2gel1', 'movie2gel2', 'movie3gel1', 'movie3gel2']\n",
    "conc = {0: 0.2, 1: 0.28, 2: 0.36, 3: 0.44, 4: 0.52, 5: 0.6, 6: 0.68, 7: 0.76, 8: 0.84, 9: 0.92, 10: 1}\n",
    "conc_reverse = dict(map(reversed,conc.items()))"
   ]
  },
  {
   "cell_type": "code",
   "execution_count": 4,
   "metadata": {},
   "outputs": [],
   "source": [
    "train_vids = ['movie1gel1', 'movie2gel1', 'movie3gel1', 'movie3gel2']\n",
    "train_paths = list()\n",
    "\n",
    "no_files = 0\n",
    "for vid in train_vids:\n",
    "    for i in range(11):\n",
    "        no_files += len(os.listdir('sequences_per_video_100x100/'+vid+'/'+str(i)))\n",
    "        for file in os.listdir('sequences_per_video_100x100/'+vid+'/'+str(i)):\n",
    "            train_paths.append('sequences_per_video_100x100/'+vid+'/'+str(i)+'/'+file)\n",
    "        \n",
    "def batch_generator_from_memory(train_files, batch_size = 100):\n",
    "    indices = np.arange(len(train_files))\n",
    "    X = list()\n",
    "    Y = list()\n",
    "    while True:\n",
    "        np.random.shuffle(indices)\n",
    "        for i in indices:\n",
    "            aux = np.load(train_files[i], allow_pickle = True)\n",
    "            X.append(aux[0]/255)\n",
    "            Y.append(aux[1])\n",
    "            if len(X)==batch_size:\n",
    "                yield np.asarray(X), np.asarray(Y)\n",
    "                X = list()\n",
    "                Y = list()"
   ]
  },
  {
   "cell_type": "code",
   "execution_count": 5,
   "metadata": {},
   "outputs": [],
   "source": [
    "val_vids = ['movie1gel2']\n",
    "val_paths = list()\n",
    "\n",
    "no_val_files = 0\n",
    "for vid in val_vids:\n",
    "    for i in range(11):\n",
    "        no_val_files += len(os.listdir('sequences_per_video_100x100/'+vid+'/'+str(i)))\n",
    "        for file in os.listdir('sequences_per_video_100x100/'+vid+'/'+str(i)):\n",
    "            val_paths.append('sequences_per_video_100x100/'+vid+'/'+str(i)+'/'+file)\n",
    "\n",
    "def validation_generator(train_files, batch_size = 1):\n",
    "    indices = np.arange(len(train_files))\n",
    "    X = list()\n",
    "    Y = list()\n",
    "    while True:\n",
    "        for i in indices:\n",
    "            aux = np.load(train_files[i], allow_pickle = True)\n",
    "            X.append(aux[0]/255)\n",
    "            Y.append(aux[1])\n",
    "            if len(X)==batch_size:\n",
    "                yield np.asarray(X), np.asarray(Y)\n",
    "                X = list()\n",
    "                Y = list()"
   ]
  },
  {
   "cell_type": "code",
   "execution_count": 6,
   "metadata": {},
   "outputs": [],
   "source": [
    "#CONVOLUTION 3D dimension always twenty \n",
    "def lenet_model_custom(channels, filters_width, dropout_rate, dense_length):\n",
    "    model = models.Sequential()\n",
    "    model.add(Conv3D(channels[0], (filters_width[0], filters_width[1], filters_width[2]), input_shape=(78, 100, 100, 3)))\n",
    "    model.add(BatchNormalization())\n",
    "    model.add(Activation('relu'))   \n",
    "    model.add(MaxPooling3D((2, 2, 2), strides = 2))\n",
    "    model.add(Dropout(dropout_rate))\n",
    "    model.add(Conv3D(channels[1], (filters_width[0], filters_width[1], filters_width[2])))\n",
    "    model.add(BatchNormalization())\n",
    "    model.add(Activation('relu')) \n",
    "    model.add(MaxPooling3D((2, 2, 2), strides = 2))\n",
    "    model.add(Dropout(dropout_rate))\n",
    "    model.add(layers.Flatten())\n",
    "    model.add(layers.Dense(dense_length))\n",
    "    model.add(BatchNormalization())\n",
    "    model.add(Activation('relu'))\n",
    "    model.add(layers.Dense(1))\n",
    "    \n",
    "    model.summary()\n",
    "    return model"
   ]
  },
  {
   "cell_type": "code",
   "execution_count": 7,
   "metadata": {},
   "outputs": [],
   "source": [
    "#GRID SEARCH\n",
    "channels = [(16,32)]\n",
    "filters_width = [(10,10,10),(15,15,15), (15,10,10)]\n",
    "dropout = [0.2, 0.35, 0.5]\n",
    "\n",
    "params = list()\n",
    "for c in channels:\n",
    "    for fw in filters_width:\n",
    "        for d in dropout:\n",
    "            params.append([c,fw,d,32])"
   ]
  },
  {
   "cell_type": "code",
   "execution_count": 8,
   "metadata": {},
   "outputs": [
    {
     "data": {
      "text/plain": [
       "[[(16, 32), (10, 10, 10), 0.2, 32],\n",
       " [(16, 32), (10, 10, 10), 0.35, 32],\n",
       " [(16, 32), (10, 10, 10), 0.5, 32],\n",
       " [(16, 32), (15, 15, 15), 0.2, 32],\n",
       " [(16, 32), (15, 15, 15), 0.35, 32],\n",
       " [(16, 32), (15, 15, 15), 0.5, 32],\n",
       " [(16, 32), (15, 10, 10), 0.2, 32],\n",
       " [(16, 32), (15, 10, 10), 0.35, 32],\n",
       " [(16, 32), (15, 10, 10), 0.5, 32]]"
      ]
     },
     "execution_count": 8,
     "metadata": {},
     "output_type": "execute_result"
    }
   ],
   "source": [
    "params"
   ]
  },
  {
   "cell_type": "code",
   "execution_count": 9,
   "metadata": {},
   "outputs": [
    {
     "name": "stdout",
     "output_type": "stream",
     "text": [
      "WARNING:tensorflow:From /home/jose/anaconda3/lib/python3.7/site-packages/tensorflow/python/framework/op_def_library.py:263: colocate_with (from tensorflow.python.framework.ops) is deprecated and will be removed in a future version.\n",
      "Instructions for updating:\n",
      "Colocations handled automatically by placer.\n",
      "WARNING:tensorflow:From /home/jose/anaconda3/lib/python3.7/site-packages/keras/backend/tensorflow_backend.py:3445: calling dropout (from tensorflow.python.ops.nn_ops) with keep_prob is deprecated and will be removed in a future version.\n",
      "Instructions for updating:\n",
      "Please use `rate` instead of `keep_prob`. Rate should be set to `rate = 1 - keep_prob`.\n",
      "_________________________________________________________________\n",
      "Layer (type)                 Output Shape              Param #   \n",
      "=================================================================\n",
      "conv3d_1 (Conv3D)            (None, 64, 86, 86, 16)    162016    \n",
      "_________________________________________________________________\n",
      "batch_normalization_1 (Batch (None, 64, 86, 86, 16)    64        \n",
      "_________________________________________________________________\n",
      "activation_1 (Activation)    (None, 64, 86, 86, 16)    0         \n",
      "_________________________________________________________________\n",
      "max_pooling3d_1 (MaxPooling3 (None, 32, 43, 43, 16)    0         \n",
      "_________________________________________________________________\n",
      "dropout_1 (Dropout)          (None, 32, 43, 43, 16)    0         \n",
      "_________________________________________________________________\n",
      "conv3d_2 (Conv3D)            (None, 18, 29, 29, 32)    1728032   \n",
      "_________________________________________________________________\n",
      "batch_normalization_2 (Batch (None, 18, 29, 29, 32)    128       \n",
      "_________________________________________________________________\n",
      "activation_2 (Activation)    (None, 18, 29, 29, 32)    0         \n",
      "_________________________________________________________________\n",
      "max_pooling3d_2 (MaxPooling3 (None, 9, 14, 14, 32)     0         \n",
      "_________________________________________________________________\n",
      "dropout_2 (Dropout)          (None, 9, 14, 14, 32)     0         \n",
      "_________________________________________________________________\n",
      "flatten_1 (Flatten)          (None, 56448)             0         \n",
      "_________________________________________________________________\n",
      "dense_1 (Dense)              (None, 32)                1806368   \n",
      "_________________________________________________________________\n",
      "batch_normalization_3 (Batch (None, 32)                128       \n",
      "_________________________________________________________________\n",
      "activation_3 (Activation)    (None, 32)                0         \n",
      "_________________________________________________________________\n",
      "dense_2 (Dense)              (None, 1)                 33        \n",
      "=================================================================\n",
      "Total params: 3,696,769\n",
      "Trainable params: 3,696,609\n",
      "Non-trainable params: 160\n",
      "_________________________________________________________________\n",
      "WARNING:tensorflow:From /home/jose/anaconda3/lib/python3.7/site-packages/tensorflow/python/ops/math_ops.py:3066: to_int32 (from tensorflow.python.ops.math_ops) is deprecated and will be removed in a future version.\n",
      "Instructions for updating:\n",
      "Use tf.cast instead.\n",
      "Epoch 1/1000\n",
      "266/266 [==============================] - 1729s 7s/step - loss: 0.1231 - mean_absolute_error: 0.2089 - val_loss: 0.0705 - val_mean_absolute_error: 0.2118\n",
      "Epoch 2/1000\n",
      "266/266 [==============================] - 1626s 6s/step - loss: 0.0305 - mean_absolute_error: 0.1393 - val_loss: 0.0282 - val_mean_absolute_error: 0.1344\n",
      "Epoch 3/1000\n",
      "266/266 [==============================] - 1625s 6s/step - loss: 0.0245 - mean_absolute_error: 0.1245 - val_loss: 0.0430 - val_mean_absolute_error: 0.1634\n",
      "Epoch 4/1000\n",
      "266/266 [==============================] - 1624s 6s/step - loss: 0.0207 - mean_absolute_error: 0.1149 - val_loss: 0.0218 - val_mean_absolute_error: 0.1189\n",
      "Epoch 5/1000\n",
      "266/266 [==============================] - 1626s 6s/step - loss: 0.0195 - mean_absolute_error: 0.1111 - val_loss: 0.0204 - val_mean_absolute_error: 0.1138\n",
      "Epoch 6/1000\n",
      "266/266 [==============================] - 1624s 6s/step - loss: 0.0166 - mean_absolute_error: 0.1027 - val_loss: 0.0172 - val_mean_absolute_error: 0.1081\n",
      "Epoch 7/1000\n",
      "266/266 [==============================] - 1627s 6s/step - loss: 0.0162 - mean_absolute_error: 0.1014 - val_loss: 0.0223 - val_mean_absolute_error: 0.1205\n",
      "Epoch 8/1000\n",
      "266/266 [==============================] - 1623s 6s/step - loss: 0.0151 - mean_absolute_error: 0.0976 - val_loss: 0.0560 - val_mean_absolute_error: 0.2041\n",
      "Epoch 9/1000\n",
      "266/266 [==============================] - 1626s 6s/step - loss: 0.0126 - mean_absolute_error: 0.0888 - val_loss: 0.0138 - val_mean_absolute_error: 0.0939\n",
      "Epoch 10/1000\n",
      "266/266 [==============================] - 1622s 6s/step - loss: 0.0127 - mean_absolute_error: 0.0894 - val_loss: 0.0210 - val_mean_absolute_error: 0.1200\n",
      "Epoch 11/1000\n",
      "266/266 [==============================] - 1622s 6s/step - loss: 0.0123 - mean_absolute_error: 0.0874 - val_loss: 0.0550 - val_mean_absolute_error: 0.1971\n",
      "Epoch 12/1000\n",
      "266/266 [==============================] - 1622s 6s/step - loss: 0.0106 - mean_absolute_error: 0.0817 - val_loss: 0.0133 - val_mean_absolute_error: 0.0925\n",
      "Epoch 13/1000\n",
      "266/266 [==============================] - 1622s 6s/step - loss: 0.0105 - mean_absolute_error: 0.0810 - val_loss: 0.0360 - val_mean_absolute_error: 0.1581\n",
      "Epoch 14/1000\n",
      "266/266 [==============================] - 1621s 6s/step - loss: 0.0105 - mean_absolute_error: 0.0810 - val_loss: 0.0191 - val_mean_absolute_error: 0.1155\n",
      "Epoch 15/1000\n",
      "266/266 [==============================] - 1622s 6s/step - loss: 0.0094 - mean_absolute_error: 0.0764 - val_loss: 0.0075 - val_mean_absolute_error: 0.0666\n",
      "Epoch 16/1000\n",
      "266/266 [==============================] - 1622s 6s/step - loss: 0.0090 - mean_absolute_error: 0.0750 - val_loss: 0.0130 - val_mean_absolute_error: 0.0934\n",
      "Epoch 17/1000\n",
      "266/266 [==============================] - 1621s 6s/step - loss: 0.0090 - mean_absolute_error: 0.0751 - val_loss: 0.0220 - val_mean_absolute_error: 0.1205\n",
      "Epoch 18/1000\n",
      "266/266 [==============================] - 1621s 6s/step - loss: 0.0085 - mean_absolute_error: 0.0727 - val_loss: 0.0847 - val_mean_absolute_error: 0.2379\n",
      "Epoch 19/1000\n",
      "266/266 [==============================] - 1622s 6s/step - loss: 0.0088 - mean_absolute_error: 0.0742 - val_loss: 0.0168 - val_mean_absolute_error: 0.1074\n",
      "Epoch 00019: early stopping\n",
      "_________________________________________________________________\n",
      "Layer (type)                 Output Shape              Param #   \n",
      "=================================================================\n",
      "conv3d_3 (Conv3D)            (None, 64, 91, 91, 16)    72016     \n",
      "_________________________________________________________________\n",
      "batch_normalization_4 (Batch (None, 64, 91, 91, 16)    64        \n",
      "_________________________________________________________________\n",
      "activation_4 (Activation)    (None, 64, 91, 91, 16)    0         \n",
      "_________________________________________________________________\n",
      "max_pooling3d_3 (MaxPooling3 (None, 32, 45, 45, 16)    0         \n",
      "_________________________________________________________________\n",
      "dropout_3 (Dropout)          (None, 32, 45, 45, 16)    0         \n",
      "_________________________________________________________________\n",
      "conv3d_4 (Conv3D)            (None, 18, 36, 36, 32)    768032    \n",
      "_________________________________________________________________\n",
      "batch_normalization_5 (Batch (None, 18, 36, 36, 32)    128       \n",
      "_________________________________________________________________\n",
      "activation_5 (Activation)    (None, 18, 36, 36, 32)    0         \n",
      "_________________________________________________________________\n",
      "max_pooling3d_4 (MaxPooling3 (None, 9, 18, 18, 32)     0         \n",
      "_________________________________________________________________\n",
      "dropout_4 (Dropout)          (None, 9, 18, 18, 32)     0         \n",
      "_________________________________________________________________\n",
      "flatten_2 (Flatten)          (None, 93312)             0         \n",
      "_________________________________________________________________\n",
      "dense_3 (Dense)              (None, 32)                2986016   \n",
      "_________________________________________________________________\n",
      "batch_normalization_6 (Batch (None, 32)                128       \n",
      "_________________________________________________________________\n",
      "activation_6 (Activation)    (None, 32)                0         \n",
      "_________________________________________________________________\n",
      "dense_4 (Dense)              (None, 1)                 33        \n",
      "=================================================================\n",
      "Total params: 3,826,417\n",
      "Trainable params: 3,826,257\n",
      "Non-trainable params: 160\n",
      "_________________________________________________________________\n"
     ]
    },
    {
     "name": "stdout",
     "output_type": "stream",
     "text": [
      "Epoch 1/1000\n",
      "266/266 [==============================] - 1018s 4s/step - loss: 0.3822 - mean_absolute_error: 0.3948 - val_loss: 0.0349 - val_mean_absolute_error: 0.1490\n",
      "Epoch 2/1000\n",
      "266/266 [==============================] - 994s 4s/step - loss: 0.0295 - mean_absolute_error: 0.1368 - val_loss: 0.0222 - val_mean_absolute_error: 0.1179\n",
      "Epoch 3/1000\n",
      "266/266 [==============================] - 994s 4s/step - loss: 0.0216 - mean_absolute_error: 0.1172 - val_loss: 0.0217 - val_mean_absolute_error: 0.1187\n",
      "Epoch 4/1000\n",
      "266/266 [==============================] - 994s 4s/step - loss: 0.0190 - mean_absolute_error: 0.1102 - val_loss: 0.0332 - val_mean_absolute_error: 0.1470\n",
      "Epoch 5/1000\n",
      "266/266 [==============================] - 994s 4s/step - loss: 0.0162 - mean_absolute_error: 0.1023 - val_loss: 0.0350 - val_mean_absolute_error: 0.1555\n",
      "Epoch 6/1000\n",
      "266/266 [==============================] - 994s 4s/step - loss: 0.0138 - mean_absolute_error: 0.0929 - val_loss: 0.0266 - val_mean_absolute_error: 0.1316\n",
      "Epoch 7/1000\n",
      "266/266 [==============================] - 994s 4s/step - loss: 0.0135 - mean_absolute_error: 0.0927 - val_loss: 0.0165 - val_mean_absolute_error: 0.1041\n",
      "Epoch 8/1000\n",
      "266/266 [==============================] - 994s 4s/step - loss: 0.0119 - mean_absolute_error: 0.0862 - val_loss: 0.0204 - val_mean_absolute_error: 0.1147\n",
      "Epoch 9/1000\n",
      "266/266 [==============================] - 994s 4s/step - loss: 0.0120 - mean_absolute_error: 0.0866 - val_loss: 0.0240 - val_mean_absolute_error: 0.1252\n",
      "Epoch 10/1000\n",
      "266/266 [==============================] - 994s 4s/step - loss: 0.0106 - mean_absolute_error: 0.0819 - val_loss: 0.0158 - val_mean_absolute_error: 0.1017\n",
      "Epoch 11/1000\n",
      "266/266 [==============================] - 994s 4s/step - loss: 0.0097 - mean_absolute_error: 0.0777 - val_loss: 0.0207 - val_mean_absolute_error: 0.1132\n",
      "Epoch 12/1000\n",
      "266/266 [==============================] - 994s 4s/step - loss: 0.0107 - mean_absolute_error: 0.0813 - val_loss: 0.0233 - val_mean_absolute_error: 0.1315\n",
      "Epoch 13/1000\n",
      "266/266 [==============================] - 994s 4s/step - loss: 0.0096 - mean_absolute_error: 0.0770 - val_loss: 0.0119 - val_mean_absolute_error: 0.0840\n",
      "Epoch 14/1000\n",
      "266/266 [==============================] - 999s 4s/step - loss: 0.0085 - mean_absolute_error: 0.0731 - val_loss: 0.0129 - val_mean_absolute_error: 0.0884\n",
      "Epoch 15/1000\n",
      "266/266 [==============================] - 997s 4s/step - loss: 0.0081 - mean_absolute_error: 0.0710 - val_loss: 0.0062 - val_mean_absolute_error: 0.0624\n",
      "Epoch 16/1000\n",
      "266/266 [==============================] - 996s 4s/step - loss: 0.0088 - mean_absolute_error: 0.0739 - val_loss: 0.0132 - val_mean_absolute_error: 0.0941\n",
      "Epoch 17/1000\n",
      "266/266 [==============================] - 996s 4s/step - loss: 0.0081 - mean_absolute_error: 0.0714 - val_loss: 0.0084 - val_mean_absolute_error: 0.0701\n",
      "Epoch 18/1000\n",
      "266/266 [==============================] - 997s 4s/step - loss: 0.0078 - mean_absolute_error: 0.0697 - val_loss: 0.0217 - val_mean_absolute_error: 0.1182\n",
      "Epoch 19/1000\n",
      "266/266 [==============================] - 996s 4s/step - loss: 0.0072 - mean_absolute_error: 0.0673 - val_loss: 0.0114 - val_mean_absolute_error: 0.0848\n",
      "Epoch 00019: early stopping\n",
      "_________________________________________________________________\n",
      "Layer (type)                 Output Shape              Param #   \n",
      "=================================================================\n",
      "conv3d_5 (Conv3D)            (None, 64, 91, 91, 16)    72016     \n",
      "_________________________________________________________________\n",
      "batch_normalization_7 (Batch (None, 64, 91, 91, 16)    64        \n",
      "_________________________________________________________________\n",
      "activation_7 (Activation)    (None, 64, 91, 91, 16)    0         \n",
      "_________________________________________________________________\n",
      "max_pooling3d_5 (MaxPooling3 (None, 32, 45, 45, 16)    0         \n",
      "_________________________________________________________________\n",
      "dropout_5 (Dropout)          (None, 32, 45, 45, 16)    0         \n",
      "_________________________________________________________________\n",
      "conv3d_6 (Conv3D)            (None, 18, 36, 36, 32)    768032    \n",
      "_________________________________________________________________\n",
      "batch_normalization_8 (Batch (None, 18, 36, 36, 32)    128       \n",
      "_________________________________________________________________\n",
      "activation_8 (Activation)    (None, 18, 36, 36, 32)    0         \n",
      "_________________________________________________________________\n",
      "max_pooling3d_6 (MaxPooling3 (None, 9, 18, 18, 32)     0         \n",
      "_________________________________________________________________\n",
      "dropout_6 (Dropout)          (None, 9, 18, 18, 32)     0         \n",
      "_________________________________________________________________\n",
      "flatten_3 (Flatten)          (None, 93312)             0         \n",
      "_________________________________________________________________\n",
      "dense_5 (Dense)              (None, 32)                2986016   \n",
      "_________________________________________________________________\n",
      "batch_normalization_9 (Batch (None, 32)                128       \n",
      "_________________________________________________________________\n",
      "activation_9 (Activation)    (None, 32)                0         \n",
      "_________________________________________________________________\n",
      "dense_6 (Dense)              (None, 1)                 33        \n",
      "=================================================================\n",
      "Total params: 3,826,417\n",
      "Trainable params: 3,826,257\n",
      "Non-trainable params: 160\n",
      "_________________________________________________________________\n",
      "Epoch 1/1000\n",
      "266/266 [==============================] - 998s 4s/step - loss: 0.1369 - mean_absolute_error: 0.2294 - val_loss: 0.0543 - val_mean_absolute_error: 0.1775\n",
      "Epoch 2/1000\n",
      "266/266 [==============================] - 997s 4s/step - loss: 0.0354 - mean_absolute_error: 0.1494 - val_loss: 0.0282 - val_mean_absolute_error: 0.1331\n",
      "Epoch 3/1000\n",
      "266/266 [==============================] - 997s 4s/step - loss: 0.0259 - mean_absolute_error: 0.1282 - val_loss: 0.0187 - val_mean_absolute_error: 0.1061\n",
      "Epoch 4/1000\n",
      "266/266 [==============================] - 997s 4s/step - loss: 0.0226 - mean_absolute_error: 0.1193 - val_loss: 0.0447 - val_mean_absolute_error: 0.1825\n",
      "Epoch 5/1000\n",
      "266/266 [==============================] - 1001s 4s/step - loss: 0.0202 - mean_absolute_error: 0.1128 - val_loss: 0.0312 - val_mean_absolute_error: 0.1428\n",
      "Epoch 6/1000\n",
      "266/266 [==============================] - 998s 4s/step - loss: 0.0177 - mean_absolute_error: 0.1058 - val_loss: 0.0291 - val_mean_absolute_error: 0.1380\n",
      "Epoch 7/1000\n",
      "266/266 [==============================] - 1001s 4s/step - loss: 0.0172 - mean_absolute_error: 0.1039 - val_loss: 0.0150 - val_mean_absolute_error: 0.0962\n",
      "Epoch 8/1000\n",
      "266/266 [==============================] - 999s 4s/step - loss: 0.0154 - mean_absolute_error: 0.0990 - val_loss: 0.0221 - val_mean_absolute_error: 0.1206\n",
      "Epoch 9/1000\n",
      "266/266 [==============================] - 997s 4s/step - loss: 0.0146 - mean_absolute_error: 0.0961 - val_loss: 0.0211 - val_mean_absolute_error: 0.1181\n",
      "Epoch 10/1000\n",
      "266/266 [==============================] - 997s 4s/step - loss: 0.0138 - mean_absolute_error: 0.0930 - val_loss: 0.0168 - val_mean_absolute_error: 0.1053\n",
      "Epoch 11/1000\n",
      "266/266 [==============================] - 997s 4s/step - loss: 0.0134 - mean_absolute_error: 0.0922 - val_loss: 0.0244 - val_mean_absolute_error: 0.1250\n",
      "Epoch 00011: early stopping\n"
     ]
    }
   ],
   "source": [
    "batch_size = 17\n",
    "num_samples = no_files\n",
    "\n",
    "for i in [4,6,7]:\n",
    "    model = lenet_model_custom(params[i][0], params[i][1], params[i][2], params[i][3])\n",
    "    save_folder = './CNN3D_orig_regression_logs_changed_sets/lenet_custom_'+ str(i)\n",
    "    es = EarlyStopping(monitor='val_loss', mode='min', verbose=1, patience=4)\n",
    "    csv = CSVLogger(save_folder +'/training.log')\n",
    "    tb = TensorBoard(update_freq='epoch', log_dir = save_folder)\n",
    "    weigths_name=\"best_weights.h5\"\n",
    "    mc = ModelCheckpoint(save_folder+'/'+weigths_name, monitor='val_loss', mode='min', save_best_only=True)\n",
    "    cbs = [mc, es, tb, csv]\n",
    "    model.compile(optimizer='adam', loss='mean_squared_error', metrics=['mean_absolute_error'])\n",
    "    history = model.fit_generator(batch_generator_from_memory(train_paths, batch_size = batch_size), \n",
    "              steps_per_epoch = ceil(num_samples / batch_size), epochs = 1000, validation_data = validation_generator(val_paths), validation_steps = no_val_files, \n",
    "              callbacks = cbs)"
   ]
  },
  {
   "cell_type": "code",
   "execution_count": null,
   "metadata": {},
   "outputs": [],
   "source": []
  },
  {
   "cell_type": "code",
   "execution_count": null,
   "metadata": {},
   "outputs": [],
   "source": []
  },
  {
   "cell_type": "markdown",
   "metadata": {},
   "source": [
    "# YOLO"
   ]
  },
  {
   "cell_type": "code",
   "execution_count": 16,
   "metadata": {},
   "outputs": [
    {
     "name": "stdout",
     "output_type": "stream",
     "text": [
      "lenet_custom_6\n",
      "0\n",
      "1\n",
      "2\n",
      "3\n",
      "4\n",
      "5\n",
      "6\n",
      "7\n",
      "8\n",
      "9\n",
      "10\n"
     ]
    }
   ],
   "source": [
    "#NAAAAOOOOO CORRER MAAAAAAAAAAIS##########################\n",
    "val_preds = {}\n",
    "sizes = {}\n",
    "\n",
    "for model_ in ['lenet_custom_6']:\n",
    "    print(model_)\n",
    "    val_preds[model_] = {}\n",
    "    sizes[model_] = {}\n",
    "    for i in range(11):\n",
    "        print(i)\n",
    "        cur_path = 'sequences_per_video_100x100/movie2gel2/'+str(i)\n",
    "        seqs = list()\n",
    "        sizes_list = list()\n",
    "        for file in sorted(os.listdir(cur_path)):\n",
    "            aux = np.load(cur_path+'/'+file, allow_pickle = True)\n",
    "            seqs.append(aux[0]/255)\n",
    "            sizes_list.append(aux[2])\n",
    "        model = models.load_model('CNN3D_orig_regression_logs_changed_sets/'+model_+'/best_weights.h5')\n",
    "        val_preds[model_][i] = model.predict(np.asarray(seqs))\n",
    "        sizes[model_][i] = sizes_list"
   ]
  },
  {
   "cell_type": "code",
   "execution_count": 17,
   "metadata": {},
   "outputs": [],
   "source": [
    "#with open('YOLO_preds_CNN3D_orig_changed_sets.pkl', 'wb') as f:\n",
    "#    pickle.dump((val_preds, sizes), f)\n",
    "    \n",
    "    \n",
    "with open('YOLO_preds_CNN3D_orig_changed_sets.pkl', 'rb') as f: \n",
    "    aux = pickle.load(f)\n",
    "    \n",
    "val_preds = aux[0]\n",
    "sizes = aux[1]"
   ]
  },
  {
   "cell_type": "code",
   "execution_count": 18,
   "metadata": {},
   "outputs": [],
   "source": [
    "#mse per model per conc\n",
    "mse_cat = {}\n",
    "\n",
    "for model_ in val_preds:\n",
    "    mse_cat[model_] = {}\n",
    "    for i in range(11):\n",
    "        mse_cat[model_][i] = 0\n",
    "        for j in range(len(val_preds[model_][i])):\n",
    "            mse_cat[model_][i] += (conc[i] - val_preds[model_][i][j][0]) ** 2\n",
    "        mse_cat[model_][i] /= len(val_preds[model_][i])"
   ]
  },
  {
   "cell_type": "code",
   "execution_count": 19,
   "metadata": {},
   "outputs": [],
   "source": [
    "#mse per conc (mean between all models)\n",
    "mse_conc = {}\n",
    "\n",
    "for i in range(11):\n",
    "    mse_conc[i] = 0\n",
    "\n",
    "for key in mse_cat:\n",
    "    for i in range(11):\n",
    "        mse_conc[i] += mse_cat[key][i]\n",
    "        \n",
    "for key in mse_conc:\n",
    "    mse_conc[key] /= len(mse_cat.keys())"
   ]
  },
  {
   "cell_type": "code",
   "execution_count": 20,
   "metadata": {},
   "outputs": [],
   "source": [
    "mean_preds = {}\n",
    "for mod in val_preds:\n",
    "    mean_preds[mod] = list()\n",
    "    for i in range(11):\n",
    "        aux = 0\n",
    "        for j in range(len(val_preds[mod][i])):\n",
    "            aux += val_preds[mod][i][j][0]\n",
    "        mean_preds[mod].append(aux / len(val_preds[mod][i]))"
   ]
  },
  {
   "cell_type": "code",
   "execution_count": 21,
   "metadata": {},
   "outputs": [],
   "source": [
    "preds_clean = {}\n",
    "preds_clean['x'] = list()\n",
    "preds_clean['y'] = list()\n",
    "\n",
    "for i in val_preds['lenet_custom_6']:\n",
    "    for j in val_preds['lenet_custom_6'][i]:\n",
    "        preds_clean['x'].append(conc[i])\n",
    "        preds_clean['y'].append(j[0])"
   ]
  },
  {
   "cell_type": "code",
   "execution_count": 22,
   "metadata": {},
   "outputs": [
    {
     "data": {
      "text/plain": [
       "[0.048655050541415334,\n",
       " 0.0037738860827504217,\n",
       " 0.0016123019474925115,\n",
       " 0.04460639922907855,\n",
       " 0.07504217872252827,\n",
       " 0.06506550725429294,\n",
       " 0.04235901605698367,\n",
       " 0.010247179654336747,\n",
       " 0.018430566326264497,\n",
       " 0.011291716997740675,\n",
       " 0.05931326698084349]"
      ]
     },
     "execution_count": 22,
     "metadata": {},
     "output_type": "execute_result"
    }
   ],
   "source": [
    "abs_mean_error = list()\n",
    "for i in range(len(mean_preds['lenet_custom_6'])):\n",
    "    abs_mean_error.append(abs(mean_preds['lenet_custom_6'][i] - conc[i]))\n",
    "abs_mean_error"
   ]
  },
  {
   "cell_type": "code",
   "execution_count": 23,
   "metadata": {},
   "outputs": [
    {
     "data": {
      "text/plain": [
       "0.06367669970863025"
      ]
     },
     "execution_count": 23,
     "metadata": {},
     "output_type": "execute_result"
    }
   ],
   "source": [
    "val_mae = list()\n",
    "for i in range(len(preds_clean['x'])):\n",
    "    val_mae.append(abs(preds_clean['x'][i] - preds_clean['y'][i]))\n",
    "    \n",
    "val_mae = np.mean(val_mae)\n",
    "val_mae"
   ]
  },
  {
   "cell_type": "code",
   "execution_count": 24,
   "metadata": {},
   "outputs": [],
   "source": [
    "concs_real = list()\n",
    "\n",
    "for i in range(11):\n",
    "    concs_real.append(conc[i])"
   ]
  },
  {
   "cell_type": "code",
   "execution_count": 25,
   "metadata": {},
   "outputs": [
    {
     "name": "stderr",
     "output_type": "stream",
     "text": [
      "No handles with labels found to put in legend.\n"
     ]
    },
    {
     "data": {
      "text/plain": [
       "[<matplotlib.lines.Line2D at 0x7f4369f96fd0>]"
      ]
     },
     "execution_count": 25,
     "metadata": {},
     "output_type": "execute_result"
    },
    {
     "data": {
      "image/png": "[encoded data removed]",
      "text/plain": [
       "<Figure size 1440x360 with 3 Axes>"
      ]
     },
     "metadata": {
      "needs_background": "light"
     },
     "output_type": "display_data"
    }
   ],
   "source": [
    "fig, axs = plt.subplots(1,3, figsize=(20,5))\n",
    "mod = 'lenet_custom_6'\n",
    "fs = 18\n",
    "\n",
    "axs[0].plot(concs_real, concs_real, 'g', label = 'Ideal Prediction')\n",
    "\n",
    "axs[0].plot(preds_clean['x'], preds_clean['y'], 'bo', markersize=3, label = 'Predictions')\n",
    "        \n",
    "axs[1].plot(concs_real, concs_real, 'g', label = 'Ideal Prediction')\n",
    "axs[1].plot(concs_real, mean_preds[mod], 'b-.')\n",
    "axs[1].plot(concs_real, mean_preds[mod], 'b.', markersize=15, label = 'Mean Predictions')\n",
    "\n",
    "axs[0].legend(loc=0, fontsize=15)\n",
    "axs[1].legend(loc=0, fontsize=15)\n",
    "axs[2].legend(loc=0)\n",
    "axs[0].set_xlabel('True Flow (SLPM)', fontsize = fs)\n",
    "axs[0].set_ylabel('Predicted Flow (SLPM)', fontsize = fs)\n",
    "axs[1].set_xlabel('True Flow (SLPM)', fontsize = fs)\n",
    "axs[1].set_ylabel('Predicted Flow (SLPM)', fontsize = fs)\n",
    "axs[2].set_xlabel('True Flow (SLPM)', fontsize = fs)\n",
    "axs[2].set_ylabel('Absolute Error (SLPM)', fontsize = fs)\n",
    "\n",
    "axs[2].plot(concs_real, abs_mean_error, 'r-.')\n",
    "axs[2].plot(concs_real, abs_mean_error, 'ro')"
   ]
  },
  {
   "cell_type": "code",
   "execution_count": 26,
   "metadata": {},
   "outputs": [],
   "source": [
    "with open('YOLO_CNN3D_orig_changed_sets_ALL_VARIABLES.pkl', 'wb') as f:\n",
    "    pickle.dump((mse_cat, mse_conc, mean_preds, preds_clean, abs_mean_error, val_mae), f)"
   ]
  },
  {
   "cell_type": "code",
   "execution_count": null,
   "metadata": {},
   "outputs": [],
   "source": []
  }
 ],
 "metadata": {
  "kernelspec": {
   "display_name": "Python 3",
   "language": "python",
   "name": "python3"
  },
  "language_info": {
   "codemirror_mode": {
    "name": "ipython",
    "version": 3
   },
   "file_extension": ".py",
   "mimetype": "text/x-python",
   "name": "python",
   "nbconvert_exporter": "python",
   "pygments_lexer": "ipython3",
   "version": "3.7.3"
  }
 },
 "nbformat": 4,
 "nbformat_minor": 4
}
