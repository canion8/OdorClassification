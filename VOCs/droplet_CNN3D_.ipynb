{
 "cells": [
  {
   "cell_type": "code",
   "execution_count": 2,
   "metadata": {},
   "outputs": [],
   "source": [
    "import pandas as pd\n",
    "from xml.etree import ElementTree\n",
    "from PIL import Image\n",
    "import numpy as np\n",
    "import os\n",
    "import matplotlib.pyplot as plt\n",
    "from keras.preprocessing.image import load_img\n",
    "from keras.preprocessing.image import img_to_array\n",
    "from keras.preprocessing.image import array_to_img\n",
    "from sklearn.model_selection import train_test_split\n",
    "from keras.utils import to_categorical\n",
    "from keras import layers\n",
    "from keras import models\n",
    "from collections import Counter\n",
    "from math import ceil, floor\n",
    "from keras.callbacks import ModelCheckpoint, EarlyStopping, TensorBoard, CSVLogger\n",
    "from keras.layers import Dropout, Conv3D, BatchNormalization, MaxPooling3D, AveragePooling2D, Activation\n",
    "import os\n",
    "from sklearn.metrics import classification_report\n",
    "from sklearn.metrics import confusion_matrix\n",
    "from openpyxl import load_workbook\n",
    "import seaborn as sns"
   ]
  },
  {
   "cell_type": "code",
   "execution_count": 3,
   "metadata": {},
   "outputs": [],
   "source": [
    "cat_dict = {'acetone':0, 'acetonitrile': 1, 'chloroform':2, 'dichloromethane':3,'diethylether':4,'ethanol':5,'ethylacetate':6,'heptane':7,'hexane':8,'methanol':9,'toluene':10}\n",
    "cat_dict_reverse = dict(map(reversed,cat_dict.items()))"
   ]
  },
  {
   "cell_type": "markdown",
   "metadata": {},
   "source": [
    "# GENERATORS\n"
   ]
  },
  {
   "cell_type": "code",
   "execution_count": 3,
   "metadata": {},
   "outputs": [],
   "source": [
    "no_files = 0\n",
    "for i in os.listdir('sequences/train'):\n",
    "    no_files+=1\n",
    "    \n",
    "def batch_generator_from_memory(batch_size = 100, no_training_files=no_files):\n",
    "    indices = np.arange(no_training_files)\n",
    "    X = list()\n",
    "    Y = list()\n",
    "    while True:\n",
    "        np.random.shuffle(indices)\n",
    "        for i in indices:\n",
    "            aux = np.load('sequences/train/seq_'+str(i)+'.npy', allow_pickle = True)\n",
    "            X.append(aux[0]/255)\n",
    "            Y.append(aux[1])\n",
    "            if len(X)==batch_size:\n",
    "                yield np.asarray(X), np.asarray(Y)\n",
    "                X = list()\n",
    "                Y = list()"
   ]
  },
  {
   "cell_type": "code",
   "execution_count": 4,
   "metadata": {},
   "outputs": [],
   "source": [
    "no_val_files = 0\n",
    "for i in os.listdir('sequences/val'):\n",
    "    no_val_files+=1\n",
    "\n",
    "def validation_generator(batch_size = 1, no_training_files=no_val_files):\n",
    "    indices = np.arange(no_training_files)\n",
    "    X = list()\n",
    "    Y = list()\n",
    "    while True:\n",
    "        for i in indices:\n",
    "            aux = np.load('sequences/val/seq_'+str(i)+'.npy', allow_pickle = True)\n",
    "            X.append(aux[0]/255)\n",
    "            Y.append(aux[1])\n",
    "            if len(X)==batch_size:\n",
    "                yield np.asarray(X), np.asarray(Y)\n",
    "                X = list()\n",
    "                Y = list()"
   ]
  },
  {
   "cell_type": "code",
   "execution_count": 5,
   "metadata": {},
   "outputs": [],
   "source": [
    "#CONVOLUTION 3D dimension always ten\n",
    "def lenet_model_custom(channels, filters_width, dropout_rate, dense_length):\n",
    "    model = models.Sequential()\n",
    "    #model.add(Conv3D(channels[0], (filters_width[0], filters_width[0], filters_width[0]), input_shape=(32,148, 148, 3)))\n",
    "    model.add(Conv3D(channels[0], (10, filters_width[0], filters_width[0]), input_shape=(32,148, 148, 3)))\n",
    "    model.add(BatchNormalization())\n",
    "    model.add(Activation('relu'))   \n",
    "    model.add(MaxPooling3D((2, 2, 2), strides = 2))\n",
    "    #model.add(MaxPooling3D(pool_size=(1, 2, 2), strides=(1, 2, 2)))\n",
    "    model.add(Dropout(dropout_rate))\n",
    "    #model.add(Conv3D(channels[1], (filters_width[1], filters_width[1], filters_width[1])))\n",
    "    model.add(Conv3D(channels[1], (10, filters_width[1], filters_width[1])))\n",
    "    model.add(BatchNormalization())\n",
    "    model.add(Activation('relu')) \n",
    "    model.add(MaxPooling3D((2, 2, 2), strides = 2))\n",
    "    #model.add(MaxPooling3D(pool_size=(1, 2, 2), strides=(1, 2, 2)))\n",
    "    model.add(Dropout(dropout_rate))\n",
    "    model.add(layers.Flatten())\n",
    "    model.add(layers.Dense(dense_length))\n",
    "    model.add(BatchNormalization())\n",
    "    model.add(Activation('relu'))\n",
    "    model.add(layers.Dense(11, activation='softmax'))\n",
    "    \n",
    "    model.summary()\n",
    "    return model"
   ]
  },
  {
   "cell_type": "code",
   "execution_count": 6,
   "metadata": {},
   "outputs": [],
   "source": [
    "#GRID SEARCH\n",
    "channels = [(16,32),(32,64),(64,128)]\n",
    "filters_width = [(10,10),(15,15),(20,20)]\n",
    "dropout = [0.2,0.35,0.5]\n",
    "\n",
    "\n",
    "\n",
    "params = list()\n",
    "for c in channels:\n",
    "    for fw in filters_width:\n",
    "        #flatten_length = floor((floor((39-fw[0]+1)/2)-fw[1]+1)/2) \n",
    "        #flatten_length *= flatten_length * c[1]\n",
    "        #flatten_length *= floor((floor((26-fw[0]+1)/2)-fw[1]+1)/2) \n",
    "        #print(flatten_length)\n",
    "        #dl = floor(flatten_length /2)\n",
    "        for d in dropout:\n",
    "            #params.append([c,fw,d,dl])\n",
    "            #params.append([c,fw,d,floor(dl/2)])\n",
    "            params.append([c,fw,d,32])\n",
    "            #params.append([c,fw,d,32])"
   ]
  },
  {
   "cell_type": "code",
   "execution_count": 7,
   "metadata": {},
   "outputs": [
    {
     "data": {
      "text/plain": [
       "[(32, 64), (20, 20), 0.2, 32]"
      ]
     },
     "execution_count": 7,
     "metadata": {},
     "output_type": "execute_result"
    }
   ],
   "source": [
    "params[15]"
   ]
  },
  {
   "cell_type": "code",
   "execution_count": 8,
   "metadata": {},
   "outputs": [
    {
     "name": "stdout",
     "output_type": "stream",
     "text": [
      "WARNING:tensorflow:From /home/jose/anaconda3/lib/python3.7/site-packages/tensorflow/python/framework/op_def_library.py:263: colocate_with (from tensorflow.python.framework.ops) is deprecated and will be removed in a future version.\n",
      "Instructions for updating:\n",
      "Colocations handled automatically by placer.\n",
      "WARNING:tensorflow:From /home/jose/anaconda3/lib/python3.7/site-packages/keras/backend/tensorflow_backend.py:3445: calling dropout (from tensorflow.python.ops.nn_ops) with keep_prob is deprecated and will be removed in a future version.\n",
      "Instructions for updating:\n",
      "Please use `rate` instead of `keep_prob`. Rate should be set to `rate = 1 - keep_prob`.\n",
      "_________________________________________________________________\n",
      "Layer (type)                 Output Shape              Param #   \n",
      "=================================================================\n",
      "conv3d_1 (Conv3D)            (None, 23, 129, 129, 32)  384032    \n",
      "_________________________________________________________________\n",
      "batch_normalization_1 (Batch (None, 23, 129, 129, 32)  128       \n",
      "_________________________________________________________________\n",
      "activation_1 (Activation)    (None, 23, 129, 129, 32)  0         \n",
      "_________________________________________________________________\n",
      "max_pooling3d_1 (MaxPooling3 (None, 11, 64, 64, 32)    0         \n",
      "_________________________________________________________________\n",
      "dropout_1 (Dropout)          (None, 11, 64, 64, 32)    0         \n",
      "_________________________________________________________________\n",
      "conv3d_2 (Conv3D)            (None, 2, 45, 45, 64)     8192064   \n",
      "_________________________________________________________________\n",
      "batch_normalization_2 (Batch (None, 2, 45, 45, 64)     256       \n",
      "_________________________________________________________________\n",
      "activation_2 (Activation)    (None, 2, 45, 45, 64)     0         \n",
      "_________________________________________________________________\n",
      "max_pooling3d_2 (MaxPooling3 (None, 1, 22, 22, 64)     0         \n",
      "_________________________________________________________________\n",
      "dropout_2 (Dropout)          (None, 1, 22, 22, 64)     0         \n",
      "_________________________________________________________________\n",
      "flatten_1 (Flatten)          (None, 30976)             0         \n",
      "_________________________________________________________________\n",
      "dense_1 (Dense)              (None, 32)                991264    \n",
      "_________________________________________________________________\n",
      "batch_normalization_3 (Batch (None, 32)                128       \n",
      "_________________________________________________________________\n",
      "activation_3 (Activation)    (None, 32)                0         \n",
      "_________________________________________________________________\n",
      "dense_2 (Dense)              (None, 11)                363       \n",
      "=================================================================\n",
      "Total params: 9,568,235\n",
      "Trainable params: 9,567,979\n",
      "Non-trainable params: 256\n",
      "_________________________________________________________________\n",
      "WARNING:tensorflow:From /home/jose/anaconda3/lib/python3.7/site-packages/tensorflow/python/ops/math_ops.py:3066: to_int32 (from tensorflow.python.ops.math_ops) is deprecated and will be removed in a future version.\n",
      "Instructions for updating:\n",
      "Use tf.cast instead.\n",
      "Epoch 1/1000\n",
      "430/430 [==============================] - 1599s 4s/step - loss: 0.8114 - acc: 0.7670 - val_loss: 0.7094 - val_acc: 0.7178\n",
      "Epoch 2/1000\n",
      "430/430 [==============================] - 1567s 4s/step - loss: 0.3056 - acc: 0.9184 - val_loss: 0.6299 - val_acc: 0.7697\n",
      "Epoch 3/1000\n",
      "430/430 [==============================] - 1572s 4s/step - loss: 0.1699 - acc: 0.9563 - val_loss: 0.6651 - val_acc: 0.7880\n",
      "Epoch 4/1000\n",
      "430/430 [==============================] - 1570s 4s/step - loss: 0.1234 - acc: 0.9651 - val_loss: 0.5486 - val_acc: 0.7939\n",
      "Epoch 5/1000\n",
      "430/430 [==============================] - 1568s 4s/step - loss: 0.1066 - acc: 0.9665 - val_loss: 0.4083 - val_acc: 0.8173\n",
      "Epoch 6/1000\n",
      "430/430 [==============================] - 1567s 4s/step - loss: 0.0823 - acc: 0.9786 - val_loss: 1.0304 - val_acc: 0.6345\n",
      "Epoch 7/1000\n",
      "430/430 [==============================] - 1568s 4s/step - loss: 0.0957 - acc: 0.9705 - val_loss: 0.8294 - val_acc: 0.7471\n",
      "Epoch 8/1000\n",
      "430/430 [==============================] - 1571s 4s/step - loss: 0.0564 - acc: 0.9865 - val_loss: 0.8744 - val_acc: 0.7558\n",
      "Epoch 9/1000\n",
      "430/430 [==============================] - 1569s 4s/step - loss: 0.0614 - acc: 0.9830 - val_loss: 0.4219 - val_acc: 0.8501\n",
      "Epoch 10/1000\n",
      "430/430 [==============================] - 1565s 4s/step - loss: 0.0486 - acc: 0.9844 - val_loss: 3.0572 - val_acc: 0.4444\n",
      "Epoch 00010: early stopping\n"
     ]
    }
   ],
   "source": [
    "#Callbacks\n",
    "\n",
    "\n",
    "batch_size = 10\n",
    "num_samples = no_files\n",
    "counter = 15\n",
    "\n",
    "for i in range(15, 16):\n",
    "    model = lenet_model_custom(params[i][0],params[i][1],params[i][2],params[i][3])\n",
    "    save_folder = './logs_3D/lenet_custom_'+ str(counter)\n",
    "    es = EarlyStopping(monitor='val_loss', mode='min', verbose=1, patience=5)\n",
    "    csv = CSVLogger(save_folder +'/training.log')\n",
    "    tb = TensorBoard(update_freq='epoch', log_dir = save_folder)\n",
    "    weigths_name=\"best_weights.h5\"\n",
    "    mc = ModelCheckpoint(save_folder+'/'+weigths_name, monitor='val_loss', mode='min', save_best_only=True)\n",
    "    cbs = [mc, es, tb, csv]\n",
    "    model.compile(optimizer='adam', loss='categorical_crossentropy', metrics=['accuracy'])\n",
    "    #history = model.fit_generator(batch_generator_from_memory(batch_size = batch_size), \n",
    "              #steps_per_epoch = ceil(num_samples / batch_size), epochs = 1000, validation_data = (val_sequences,val_cat),\n",
    "              #callbacks = cbs)\n",
    "    history = model.fit_generator(batch_generator_from_memory(batch_size = batch_size), \n",
    "              steps_per_epoch = ceil(num_samples / batch_size), epochs = 1000, validation_data = validation_generator(), validation_steps = no_val_files, \n",
    "              callbacks = cbs)\n",
    "    counter += 1"
   ]
  },
  {
   "cell_type": "markdown",
   "metadata": {},
   "source": [
    "# RUN BEST MODEL WITH MORE CHANNELS"
   ]
  },
  {
   "cell_type": "code",
   "execution_count": null,
   "metadata": {},
   "outputs": [],
   "source": []
  },
  {
   "cell_type": "markdown",
   "metadata": {},
   "source": [
    "# EVALUATE MODELS"
   ]
  },
  {
   "cell_type": "code",
   "execution_count": 4,
   "metadata": {},
   "outputs": [
    {
     "name": "stdout",
     "output_type": "stream",
     "text": [
      "acc_weights_lenet_custom_0\n",
      "acc_weights_lenet_custom_1\n",
      "acc_weights_lenet_custom_2\n",
      "acc_weights_lenet_custom_3\n",
      "acc_weights_lenet_custom_4\n",
      "acc_weights_lenet_custom_5\n",
      "acc_weights_lenet_custom_6\n",
      "acc_weights_lenet_custom_8\n",
      "balanced_lenet_custom_6\n",
      "lenet_custom_0\n",
      "lenet_custom_1\n",
      "lenet_custom_2\n",
      "lenet_custom_3\n",
      "lenet_custom_4\n",
      "lenet_custom_5\n",
      "lenet_custom_6\n",
      "lenet_custom_7\n",
      "lenet_custom_8\n"
     ]
    }
   ],
   "source": [
    "loss_acc_dic = {}\n",
    "\n",
    "\n",
    "for folder in sorted(os.listdir('logs_3D')):\n",
    "    print(folder)\n",
    "    correct_counter = 0\n",
    "    aux = pd.read_csv('logs_3D/'+folder+'/training.log')\n",
    "    row = aux.loc[aux['val_loss'].idxmin()]\n",
    "    loss_acc_dic[folder] = {}\n",
    "    loss_acc_dic[folder]['min_loss'] = row['val_loss']\n",
    "    loss_acc_dic[folder]['val_acc'] = row['val_acc']\n",
    "    "
   ]
  },
  {
   "cell_type": "code",
   "execution_count": 5,
   "metadata": {},
   "outputs": [
    {
     "data": {
      "text/plain": [
       "{'acc_weights_lenet_custom_0': {'min_loss': 0.194561110122846,\n",
       "  'val_acc': 0.9342105263157896},\n",
       " 'acc_weights_lenet_custom_1': {'min_loss': 0.2736872172458017,\n",
       "  'val_acc': 0.8954678362573101},\n",
       " 'acc_weights_lenet_custom_2': {'min_loss': 0.3178550303317035,\n",
       "  'val_acc': 0.8757309941520468},\n",
       " 'acc_weights_lenet_custom_3': {'min_loss': 0.3677951591082613,\n",
       "  'val_acc': 0.9035087719298246},\n",
       " 'acc_weights_lenet_custom_4': {'min_loss': 0.3928369422325903,\n",
       "  'val_acc': 0.8625730994152047},\n",
       " 'acc_weights_lenet_custom_5': {'min_loss': 0.2097952413028316,\n",
       "  'val_acc': 0.91593567251462},\n",
       " 'acc_weights_lenet_custom_6': {'min_loss': 0.5307684272204701,\n",
       "  'val_acc': 0.827485380116959},\n",
       " 'acc_weights_lenet_custom_8': {'min_loss': 0.6167838642266796,\n",
       "  'val_acc': 0.8150584795321637},\n",
       " 'balanced_lenet_custom_6': {'min_loss': 0.26587861660874024,\n",
       "  'val_acc': 0.9071637426900584},\n",
       " 'lenet_custom_0': {'min_loss': 0.17425635929695696,\n",
       "  'val_acc': 0.9371345029239766},\n",
       " 'lenet_custom_1': {'min_loss': 0.2739980415453137,\n",
       "  'val_acc': 0.9027777777777778},\n",
       " 'lenet_custom_2': {'min_loss': 0.12520004292654932,\n",
       "  'val_acc': 0.9502923976608189},\n",
       " 'lenet_custom_3': {'min_loss': 0.43948380437384976,\n",
       "  'val_acc': 0.8399122807017544},\n",
       " 'lenet_custom_4': {'min_loss': 0.18309041772333293,\n",
       "  'val_acc': 0.932748538011696},\n",
       " 'lenet_custom_5': {'min_loss': 0.18022696144762768,\n",
       "  'val_acc': 0.952485380116959},\n",
       " 'lenet_custom_6': {'min_loss': 0.13092034599839816,\n",
       "  'val_acc': 0.9634502923976608},\n",
       " 'lenet_custom_7': {'min_loss': 0.6523695844135381,\n",
       "  'val_acc': 0.7068713450292398},\n",
       " 'lenet_custom_8': {'min_loss': 0.24012371060820314,\n",
       "  'val_acc': 0.9130116959064328}}"
      ]
     },
     "execution_count": 5,
     "metadata": {},
     "output_type": "execute_result"
    }
   ],
   "source": [
    "loss_acc_dic"
   ]
  },
  {
   "cell_type": "code",
   "execution_count": 6,
   "metadata": {},
   "outputs": [],
   "source": [
    "min_loss = 10000\n",
    "for key in loss_acc_dic:\n",
    "    if(loss_acc_dic[key]['min_loss'] < min_loss):\n",
    "        min_loss = loss_acc_dic[key]['min_loss']\n",
    "        best_model = key"
   ]
  },
  {
   "cell_type": "code",
   "execution_count": 7,
   "metadata": {},
   "outputs": [
    {
     "data": {
      "text/plain": [
       "'lenet_custom_2'"
      ]
     },
     "execution_count": 7,
     "metadata": {},
     "output_type": "execute_result"
    }
   ],
   "source": [
    "best_model"
   ]
  },
  {
   "cell_type": "markdown",
   "metadata": {},
   "source": [
    "# CHECK ACCURACIES PER CLASS"
   ]
  },
  {
   "cell_type": "code",
   "execution_count": 8,
   "metadata": {},
   "outputs": [
    {
     "name": "stdout",
     "output_type": "stream",
     "text": [
      "lenet_custom_0\n",
      "WARNING:tensorflow:From /home/jose/anaconda3/lib/python3.7/site-packages/tensorflow/python/framework/op_def_library.py:263: colocate_with (from tensorflow.python.framework.ops) is deprecated and will be removed in a future version.\n",
      "Instructions for updating:\n",
      "Colocations handled automatically by placer.\n",
      "WARNING:tensorflow:From /home/jose/anaconda3/lib/python3.7/site-packages/keras/backend/tensorflow_backend.py:3445: calling dropout (from tensorflow.python.ops.nn_ops) with keep_prob is deprecated and will be removed in a future version.\n",
      "Instructions for updating:\n",
      "Please use `rate` instead of `keep_prob`. Rate should be set to `rate = 1 - keep_prob`.\n",
      "WARNING:tensorflow:From /home/jose/anaconda3/lib/python3.7/site-packages/tensorflow/python/ops/math_ops.py:3066: to_int32 (from tensorflow.python.ops.math_ops) is deprecated and will be removed in a future version.\n",
      "Instructions for updating:\n",
      "Use tf.cast instead.\n",
      "lenet_custom_1\n",
      "lenet_custom_2\n",
      "lenet_custom_3\n",
      "lenet_custom_4\n",
      "lenet_custom_5\n",
      "lenet_custom_6\n",
      "lenet_custom_7\n",
      "lenet_custom_8\n"
     ]
    }
   ],
   "source": [
    "y_pred = {}\n",
    "y_real = {}\n",
    "\n",
    "for folder in sorted(os.listdir('logs_3D')):\n",
    "    if ('acc' not in folder) and ('balanced' not in folder):\n",
    "        print(folder)\n",
    "        y_pred[folder] = list()\n",
    "        y_real[folder] = list()\n",
    "        model = models.load_model('logs_3D/'+folder+'/best_weights.h5')\n",
    "        for file in os.listdir('sequences/val'):\n",
    "            aux = np.load('sequences/val/'+file, allow_pickle = True)\n",
    "            x = aux[0]/255\n",
    "            y_real[folder].append(np.argmax(aux[1]))\n",
    "            y_pred[folder].append(np.argmax(model.predict((x.reshape((1,32,148,148,3))))[0]))\n",
    "        "
   ]
  },
  {
   "cell_type": "code",
   "execution_count": 9,
   "metadata": {},
   "outputs": [],
   "source": [
    "y_real = y_real['lenet_custom_0']"
   ]
  },
  {
   "cell_type": "code",
   "execution_count": 4,
   "metadata": {},
   "outputs": [],
   "source": [
    "#aux = (y_real, y_pred)\n",
    "#np.save('val_sequence_predictions_CNN3D.npy',aux)\n",
    "\n",
    "aux = np.load('val_sequence_predictions_CNN3D.npy', allow_pickle = True)\n",
    "y_real = aux[0]\n",
    "y_pred = aux[1]"
   ]
  },
  {
   "cell_type": "code",
   "execution_count": 13,
   "metadata": {},
   "outputs": [],
   "source": [
    "#CLASSIFICATION REPORT PER MODEL (PRECISIONS, ACCURACIES, F1-SCORES, RECALLS)\n",
    "\n",
    "reports = {}\n",
    "\n",
    "cats = list()\n",
    "for key in cat_dict:\n",
    "    cats.append(key)\n",
    "\n",
    "for mod in y_pred:\n",
    "    reports[mod] = classification_report(y_real, y_pred[mod], target_names=cats, output_dict=True)"
   ]
  },
  {
   "cell_type": "code",
   "execution_count": 14,
   "metadata": {},
   "outputs": [],
   "source": [
    "#CONFUSION MATRICES\n",
    "conf_matrices = {}\n",
    "\n",
    "for mod in y_pred:\n",
    "    conf_matrices[mod] = confusion_matrix(y_real, y_pred[mod])"
   ]
  },
  {
   "cell_type": "code",
   "execution_count": 17,
   "metadata": {},
   "outputs": [],
   "source": [
    "###DONT RUN AGAIN#####\n",
    "wb = load_workbook(filename='CNN3D_results.xlsx')\n",
    "ws = wb.worksheets[0]\n",
    "\n",
    "init_col = 5\n",
    "init_row = 5\n",
    "cur_col = init_col\n",
    "cur_row = init_row\n",
    "\n",
    "for mod in reports:\n",
    "    ws.cell(row=cur_row, column = cur_col).value = mod\n",
    "    cur_col += 1\n",
    "    for key in cat_dict:\n",
    "        for metric in ['precision', 'recall', 'f1-score']:\n",
    "            ws.cell(row=cur_row, column = cur_col).value = reports[mod][key][metric]\n",
    "            cur_col += 1\n",
    "    \n",
    "    cur_col += 1\n",
    "    ws.cell(row=cur_row, column = cur_col).value = reports[mod]['accuracy']\n",
    "    cur_col += 1\n",
    "    ws.cell(row=cur_row, column = cur_col).value = reports[mod]['macro avg']['f1-score']\n",
    "    \n",
    "    \n",
    "    cur_col = init_col\n",
    "    cur_row += 1\n",
    "    \n",
    "wb.save('CNN3D_results.xlsx')"
   ]
  },
  {
   "cell_type": "code",
   "execution_count": 18,
   "metadata": {},
   "outputs": [],
   "source": [
    "cats = []\n",
    "for key in cat_dict:\n",
    "    cats.append(key)"
   ]
  },
  {
   "cell_type": "code",
   "execution_count": 22,
   "metadata": {},
   "outputs": [
    {
     "data": {
      "text/plain": [
       "Text(0.5, 69.0, 'Predicted Class')"
      ]
     },
     "execution_count": 22,
     "metadata": {},
     "output_type": "execute_result"
    },
    {
     "data": {
      "image/png": "[encoded data removed]",
      "text/plain": [
       "<Figure size 864x720 with 2 Axes>"
      ]
     },
     "metadata": {
      "needs_background": "light"
     },
     "output_type": "display_data"
    }
   ],
   "source": [
    "#MODEL HITH HIGHEST F1-SCORE\n",
    "fig, ax = plt.subplots(figsize=(12,10))\n",
    "sns.heatmap(conf_matrices['lenet_custom_6'], annot=True, fmt=\"d\", linewidths=.5, xticklabels = cats, yticklabels = cats)\n",
    "ax.set_ylabel('Target Class', fontsize = 15)\n",
    "ax.set_xlabel('Predicted Class', fontsize = 15)"
   ]
  },
  {
   "cell_type": "code",
   "execution_count": null,
   "metadata": {},
   "outputs": [],
   "source": []
  },
  {
   "cell_type": "code",
   "execution_count": null,
   "metadata": {},
   "outputs": [],
   "source": []
  },
  {
   "cell_type": "code",
   "execution_count": null,
   "metadata": {},
   "outputs": [],
   "source": []
  },
  {
   "cell_type": "code",
   "execution_count": null,
   "metadata": {},
   "outputs": [],
   "source": []
  },
  {
   "cell_type": "code",
   "execution_count": null,
   "metadata": {},
   "outputs": [],
   "source": []
  }
 ],
 "metadata": {
  "kernelspec": {
   "display_name": "Python 3",
   "language": "python",
   "name": "python3"
  },
  "language_info": {
   "codemirror_mode": {
    "name": "ipython",
    "version": 3
   },
   "file_extension": ".py",
   "mimetype": "text/x-python",
   "name": "python",
   "nbconvert_exporter": "python",
   "pygments_lexer": "ipython3",
   "version": "3.7.3"
  }
 },
 "nbformat": 4,
 "nbformat_minor": 4
}
