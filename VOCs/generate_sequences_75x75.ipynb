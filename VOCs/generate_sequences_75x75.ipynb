{
 "cells": [
  {
   "cell_type": "code",
   "execution_count": 1,
   "metadata": {},
   "outputs": [
    {
     "name": "stderr",
     "output_type": "stream",
     "text": [
      "Using TensorFlow backend.\n",
      "/home/jose/anaconda3/lib/python3.7/site-packages/tensorflow/python/framework/dtypes.py:526: FutureWarning: Passing (type, 1) or '1type' as a synonym of type is deprecated; in a future version of numpy, it will be understood as (type, (1,)) / '(1,)type'.\n",
      "  _np_qint8 = np.dtype([(\"qint8\", np.int8, 1)])\n",
      "/home/jose/anaconda3/lib/python3.7/site-packages/tensorflow/python/framework/dtypes.py:527: FutureWarning: Passing (type, 1) or '1type' as a synonym of type is deprecated; in a future version of numpy, it will be understood as (type, (1,)) / '(1,)type'.\n",
      "  _np_quint8 = np.dtype([(\"quint8\", np.uint8, 1)])\n",
      "/home/jose/anaconda3/lib/python3.7/site-packages/tensorflow/python/framework/dtypes.py:528: FutureWarning: Passing (type, 1) or '1type' as a synonym of type is deprecated; in a future version of numpy, it will be understood as (type, (1,)) / '(1,)type'.\n",
      "  _np_qint16 = np.dtype([(\"qint16\", np.int16, 1)])\n",
      "/home/jose/anaconda3/lib/python3.7/site-packages/tensorflow/python/framework/dtypes.py:529: FutureWarning: Passing (type, 1) or '1type' as a synonym of type is deprecated; in a future version of numpy, it will be understood as (type, (1,)) / '(1,)type'.\n",
      "  _np_quint16 = np.dtype([(\"quint16\", np.uint16, 1)])\n",
      "/home/jose/anaconda3/lib/python3.7/site-packages/tensorflow/python/framework/dtypes.py:530: FutureWarning: Passing (type, 1) or '1type' as a synonym of type is deprecated; in a future version of numpy, it will be understood as (type, (1,)) / '(1,)type'.\n",
      "  _np_qint32 = np.dtype([(\"qint32\", np.int32, 1)])\n",
      "/home/jose/anaconda3/lib/python3.7/site-packages/tensorflow/python/framework/dtypes.py:535: FutureWarning: Passing (type, 1) or '1type' as a synonym of type is deprecated; in a future version of numpy, it will be understood as (type, (1,)) / '(1,)type'.\n",
      "  np_resource = np.dtype([(\"resource\", np.ubyte, 1)])\n"
     ]
    }
   ],
   "source": [
    "from xml.etree import ElementTree\n",
    "from PIL import Image\n",
    "import numpy as np\n",
    "import shutil\n",
    "import os\n",
    "import matplotlib.pyplot as plt\n",
    "from keras.preprocessing.image import load_img\n",
    "from keras.preprocessing.image import img_to_array\n",
    "from keras.preprocessing.image import array_to_img\n",
    "from sklearn.model_selection import train_test_split\n",
    "from keras.utils import to_categorical\n",
    "from keras import layers\n",
    "from keras import models\n",
    "from collections import Counter\n",
    "from math import ceil, floor\n",
    "from keras.callbacks import ModelCheckpoint, EarlyStopping, TensorBoard, CSVLogger\n",
    "from keras.layers import Dropout, Conv3D, BatchNormalization, MaxPooling3D, AveragePooling2D, Activation\n",
    "from PIL import Image, ImageOps"
   ]
  },
  {
   "cell_type": "code",
   "execution_count": 2,
   "metadata": {},
   "outputs": [],
   "source": [
    "cat_dict = {'acetone':0, 'acetonitrile': 1, 'chloroform':2, 'dichloromethane':3,'diethylether':4,'ethanol':5,'ethylacetate':6,'heptane':7,'hexane':8,'methanol':9,'toluene':10}\n",
    "cat_dict_reverse = dict(map(reversed,cat_dict.items()))"
   ]
  },
  {
   "cell_type": "code",
   "execution_count": 3,
   "metadata": {},
   "outputs": [],
   "source": [
    "def extract_boxes(filename):\n",
    "    # load and parse the file\n",
    "    tree = ElementTree.parse(filename)\n",
    "    # get the root of the document\n",
    "    root = tree.getroot()\n",
    "    # extract each bounding box\n",
    "    boxes = list()\n",
    "    for box in root.findall('.//bndbox'):\n",
    "        xmin = int(box.find('xmin').text)\n",
    "        ymin = int(box.find('ymin').text)\n",
    "        xmax = int(box.find('xmax').text)\n",
    "        ymax = int(box.find('ymax').text)\n",
    "        coors = [xmin, ymin, xmax, ymax]\n",
    "        boxes.append(coors)\n",
    "    # extract image dimensions\n",
    "    width = int(root.find('.//size/width').text)\n",
    "    height = int(root.find('.//size/height').text)\n",
    "    return boxes, width, height"
   ]
  },
  {
   "cell_type": "code",
   "execution_count": 4,
   "metadata": {},
   "outputs": [],
   "source": [
    "path = '/media/jose/USB-HDD/Tese/Videos_Original_Resolution_Seq32'\n",
    "\n",
    "bboxes_per_video = {}\n",
    "first_frame = {}\n",
    "\n",
    "for cat in cat_dict:\n",
    "    bboxes_per_video[cat] = {}\n",
    "    first_frame[cat] = {}\n",
    "    for video_no in range(1,6):\n",
    "        bboxes_per_video[cat][video_no] = 0\n",
    "        first_file = 1000\n",
    "        for file in os.listdir(path+'/'+cat+'/seq'+str(video_no)):\n",
    "            if file.endswith('.xml'):\n",
    "                aux_num = int(file[5:-4])\n",
    "                if aux_num < first_file:\n",
    "                    first_file = aux_num\n",
    "        first_frame[cat][video_no] = first_file\n",
    "        xml_name = 'frame'+str(first_file)+'.xml'\n",
    "        #xml_name = cat+str(video_no)+'frame'+str(0)+'.xml'\n",
    "        b, _, _ = extract_boxes(path+'/'+cat+'/seq'+str(video_no)+'/'+xml_name)\n",
    "        bboxes_per_video[cat][video_no] = b"
   ]
  },
  {
   "cell_type": "code",
   "execution_count": 6,
   "metadata": {},
   "outputs": [],
   "source": [
    "shutil.rmtree('sequences_75x75')\n",
    "aux1 = ['train','val','test']\n",
    "\n",
    "os.mkdir('sequences_75x75')\n",
    "for i in aux1:\n",
    "    os.mkdir('sequences_75x75/'+i)"
   ]
  },
  {
   "cell_type": "code",
   "execution_count": 7,
   "metadata": {},
   "outputs": [
    {
     "name": "stdout",
     "output_type": "stream",
     "text": [
      "acetone\n",
      "acetonitrile\n",
      "chloroform\n",
      "dichloromethane\n",
      "diethylether\n",
      "ethanol\n",
      "ethylacetate\n",
      "heptane\n",
      "hexane\n",
      "methanol\n",
      "toluene\n"
     ]
    }
   ],
   "source": [
    "#generate train sequences\n",
    "image_sequences = {}\n",
    "seq_counter = 0\n",
    "\n",
    "for cat in bboxes_per_video:\n",
    "    print(cat)\n",
    "    image_sequences[cat] = {}\n",
    "    #for video in bboxes_per_video[cat]:\n",
    "    for video in range(1,4): #only train sequences for now\n",
    "        aux_im_list = list()\n",
    "        for i in range(first_frame[cat][video],first_frame[cat][video]+32):\n",
    "            im_path = path+'/'+cat+'/seq'+str(video)+'/frame'+str(i)+'.png'\n",
    "            aux_im_list.append(Image.open(im_path))\n",
    "        image_sequences[cat][video] = list()\n",
    "        for drop_no in range(len(bboxes_per_video[cat][video])):\n",
    "            drop_seq = list()\n",
    "            for frame_no in range(0,32):\n",
    "                #drop_seq.append(img_to_array(aux_im_list[frame_no].crop(tuple(bboxes_per_video[cat][video][drop_no])).resize((39,39)))/255)\n",
    "                #drop_seq.append(aux_im_list[frame_no].crop(tuple(bboxes_per_video[cat][video][drop_no])).resize((39,39)))\n",
    "                drop_seq.append(img_to_array(aux_im_list[frame_no].crop(tuple(bboxes_per_video[cat][video][drop_no])).resize((75,75))))\n",
    "                #drop_seq.append(aux_im_list[frame_no].crop(tuple(bboxes_per_video[cat][video][drop_no])).resize((39,39)))\n",
    "            #image_sequences[cat][video].append(drop_seq)\n",
    "            aux = (np.asarray(drop_seq).astype(np.uint8), to_categorical(cat_dict[cat],11))\n",
    "            np.save('sequences_75x75/train/seq_'+str(seq_counter)+'.npy',aux)\n",
    "            seq_counter += 1"
   ]
  },
  {
   "cell_type": "code",
   "execution_count": 8,
   "metadata": {},
   "outputs": [
    {
     "name": "stdout",
     "output_type": "stream",
     "text": [
      "acetone\n",
      "acetonitrile\n",
      "chloroform\n",
      "dichloromethane\n",
      "diethylether\n",
      "ethanol\n",
      "ethylacetate\n",
      "heptane\n",
      "hexane\n",
      "methanol\n",
      "toluene\n"
     ]
    }
   ],
   "source": [
    "#generate val sequences\n",
    "image_sequences = {}\n",
    "seq_counter = 0\n",
    "\n",
    "for cat in bboxes_per_video:\n",
    "    print(cat)\n",
    "    image_sequences[cat] = {}\n",
    "    #for video in bboxes_per_video[cat]:\n",
    "    for video in range(4,5): #only val sequences for now\n",
    "        aux_im_list = list()\n",
    "        for i in range(first_frame[cat][video],first_frame[cat][video]+32):\n",
    "            im_path = path+'/'+cat+'/seq'+str(video)+'/frame'+str(i)+'.png'\n",
    "            aux_im_list.append(Image.open(im_path))\n",
    "        image_sequences[cat][video] = list()\n",
    "        for drop_no in range(len(bboxes_per_video[cat][video])):\n",
    "            drop_seq = list()\n",
    "            for frame_no in range(0,32):\n",
    "                #drop_seq.append(img_to_array(aux_im_list[frame_no].crop(tuple(bboxes_per_video[cat][video][drop_no])).resize((39,39)))/255)\n",
    "                #drop_seq.append(aux_im_list[frame_no].crop(tuple(bboxes_per_video[cat][video][drop_no])).resize((39,39)))\n",
    "                drop_seq.append(img_to_array(aux_im_list[frame_no].crop(tuple(bboxes_per_video[cat][video][drop_no])).resize((75,75))))\n",
    "                #drop_seq.append(aux_im_list[frame_no].crop(tuple(bboxes_per_video[cat][video][drop_no])).resize((39,39)))\n",
    "            #image_sequences[cat][video].append(drop_seq)\n",
    "            aux = (np.asarray(drop_seq).astype(np.uint8), to_categorical(cat_dict[cat],11))\n",
    "            np.save('sequences_75x75/val/seq_'+str(seq_counter)+'.npy',aux)\n",
    "            seq_counter += 1"
   ]
  },
  {
   "cell_type": "code",
   "execution_count": 5,
   "metadata": {},
   "outputs": [
    {
     "name": "stdout",
     "output_type": "stream",
     "text": [
      "acetone\n",
      "acetonitrile\n",
      "chloroform\n",
      "dichloromethane\n",
      "diethylether\n",
      "ethanol\n",
      "ethylacetate\n",
      "heptane\n",
      "hexane\n",
      "methanol\n",
      "toluene\n"
     ]
    }
   ],
   "source": [
    "#generate test sequences\n",
    "image_sequences = {}\n",
    "seq_counter = 0\n",
    "\n",
    "for cat in bboxes_per_video:\n",
    "    print(cat)\n",
    "    image_sequences[cat] = {}\n",
    "    #for video in bboxes_per_video[cat]:\n",
    "    for video in range(5,6): #only val sequences for now\n",
    "        aux_im_list = list()\n",
    "        for i in range(first_frame[cat][video],first_frame[cat][video]+32):\n",
    "            im_path = path+'/'+cat+'/seq'+str(video)+'/frame'+str(i)+'.png'\n",
    "            aux_im_list.append(Image.open(im_path))\n",
    "        image_sequences[cat][video] = list()\n",
    "        for drop_no in range(len(bboxes_per_video[cat][video])):\n",
    "            drop_seq = list()\n",
    "            for frame_no in range(0,32):\n",
    "                #drop_seq.append(img_to_array(aux_im_list[frame_no].crop(tuple(bboxes_per_video[cat][video][drop_no])).resize((39,39)))/255)\n",
    "                #drop_seq.append(aux_im_list[frame_no].crop(tuple(bboxes_per_video[cat][video][drop_no])).resize((39,39)))\n",
    "                drop_seq.append(img_to_array(aux_im_list[frame_no].crop(tuple(bboxes_per_video[cat][video][drop_no])).resize((75,75))))\n",
    "                #drop_seq.append(aux_im_list[frame_no].crop(tuple(bboxes_per_video[cat][video][drop_no])).resize((39,39)))\n",
    "            #image_sequences[cat][video].append(drop_seq)\n",
    "            aux = (np.asarray(drop_seq).astype(np.uint8), to_categorical(cat_dict[cat],11))\n",
    "            np.save('sequences_75x75/test/seq_'+str(seq_counter)+'.npy',aux)\n",
    "            seq_counter += 1"
   ]
  },
  {
   "cell_type": "code",
   "execution_count": null,
   "metadata": {},
   "outputs": [],
   "source": []
  }
 ],
 "metadata": {
  "kernelspec": {
   "display_name": "Python 3",
   "language": "python",
   "name": "python3"
  },
  "language_info": {
   "codemirror_mode": {
    "name": "ipython",
    "version": 3
   },
   "file_extension": ".py",
   "mimetype": "text/x-python",
   "name": "python",
   "nbconvert_exporter": "python",
   "pygments_lexer": "ipython3",
   "version": "3.7.3"
  }
 },
 "nbformat": 4,
 "nbformat_minor": 4
}
